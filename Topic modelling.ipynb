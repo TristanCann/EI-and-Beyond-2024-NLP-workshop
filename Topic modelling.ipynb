{
 "cells": [
  {
   "cell_type": "code",
   "execution_count": 1,
   "id": "71c24c03",
   "metadata": {},
   "outputs": [
    {
     "name": "stdout",
     "output_type": "stream",
     "text": [
      "WARNING:tensorflow:From C:\\Users\\tjbc201\\AppData\\Roaming\\Python\\Python310\\site-packages\\keras\\src\\losses.py:2976: The name tf.losses.sparse_softmax_cross_entropy is deprecated. Please use tf.compat.v1.losses.sparse_softmax_cross_entropy instead.\n",
      "\n"
     ]
    },
    {
     "ename": "ModuleNotFoundError",
     "evalue": "No module named 'lda'",
     "output_type": "error",
     "traceback": [
      "\u001b[1;31m---------------------------------------------------------------------------\u001b[0m",
      "\u001b[1;31mModuleNotFoundError\u001b[0m                       Traceback (most recent call last)",
      "Cell \u001b[1;32mIn[1], line 2\u001b[0m\n\u001b[0;32m      1\u001b[0m \u001b[38;5;28;01mimport\u001b[39;00m \u001b[38;5;21;01mbertopic\u001b[39;00m\n\u001b[1;32m----> 2\u001b[0m \u001b[38;5;28;01mimport\u001b[39;00m \u001b[38;5;21;01mlda\u001b[39;00m\n\u001b[0;32m      3\u001b[0m \u001b[38;5;28;01mimport\u001b[39;00m \u001b[38;5;21;01mnltk\u001b[39;00m\n",
      "\u001b[1;31mModuleNotFoundError\u001b[0m: No module named 'lda'"
     ]
    }
   ],
   "source": [
    "import bertopic\n",
    "import lda\n",
    "import nltk"
   ]
  },
  {
   "cell_type": "markdown",
   "id": "cd303096",
   "metadata": {},
   "source": [
    "# Topic modelling\n",
    "\n",
    "What is topic modelling? What are the benefits?"
   ]
  },
  {
   "cell_type": "code",
   "execution_count": 2,
   "id": "fd069917",
   "metadata": {},
   "outputs": [],
   "source": [
    "## LDA example"
   ]
  },
  {
   "cell_type": "code",
   "execution_count": 3,
   "id": "1f6265fe",
   "metadata": {},
   "outputs": [],
   "source": [
    "## BERTopic example"
   ]
  },
  {
   "cell_type": "code",
   "execution_count": 4,
   "id": "a0c76aaa",
   "metadata": {},
   "outputs": [],
   "source": [
    "## What are the differences?"
   ]
  },
  {
   "cell_type": "code",
   "execution_count": 5,
   "id": "69eeb8bd",
   "metadata": {},
   "outputs": [],
   "source": [
    "## Some exercises"
   ]
  },
  {
   "cell_type": "code",
   "execution_count": null,
   "id": "67e25f3e",
   "metadata": {},
   "outputs": [],
   "source": []
  }
 ],
 "metadata": {
  "kernelspec": {
   "display_name": "Python 3 (ipykernel)",
   "language": "python",
   "name": "python3"
  },
  "language_info": {
   "codemirror_mode": {
    "name": "ipython",
    "version": 3
   },
   "file_extension": ".py",
   "mimetype": "text/x-python",
   "name": "python",
   "nbconvert_exporter": "python",
   "pygments_lexer": "ipython3",
   "version": "3.10.7"
  }
 },
 "nbformat": 4,
 "nbformat_minor": 5
}
