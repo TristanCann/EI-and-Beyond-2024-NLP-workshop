{
 "cells": [
  {
   "cell_type": "code",
   "execution_count": 10,
   "id": "2e9ae8e9",
   "metadata": {},
   "outputs": [],
   "source": [
    "import string\n",
    "import re\n",
    "import pandas as pd"
   ]
  },
  {
   "cell_type": "markdown",
   "id": "12397392",
   "metadata": {},
   "source": [
    "# Text preprocessing\n",
    "\n",
    "Some text about why preprocessing is important."
   ]
  },
  {
   "cell_type": "code",
   "execution_count": 11,
   "id": "d7b9c53f",
   "metadata": {},
   "outputs": [],
   "source": [
    "df_news = pd.read_json('data/cc_gw_news_blogs_2021-10-01_2021-10-31.json')"
   ]
  },
  {
   "cell_type": "code",
   "execution_count": 1,
   "id": "8d87c4bf",
   "metadata": {},
   "outputs": [],
   "source": [
    "## Manage upper/lower case"
   ]
  },
  {
   "cell_type": "code",
   "execution_count": 2,
   "id": "9c3c98d6",
   "metadata": {},
   "outputs": [],
   "source": [
    "## Manage punctuation"
   ]
  },
  {
   "cell_type": "code",
   "execution_count": 5,
   "id": "552cdb5a",
   "metadata": {},
   "outputs": [],
   "source": [
    "## A note on encoding"
   ]
  },
  {
   "cell_type": "code",
   "execution_count": 6,
   "id": "cc74934e",
   "metadata": {},
   "outputs": [],
   "source": [
    "## Two exercises"
   ]
  },
  {
   "cell_type": "markdown",
   "id": "7ef73b60",
   "metadata": {},
   "source": [
    "# Text searching\n",
    "\n",
    "A note on searching strategies."
   ]
  },
  {
   "cell_type": "code",
   "execution_count": 4,
   "id": "97b20c82",
   "metadata": {},
   "outputs": [],
   "source": [
    "## Text in text method"
   ]
  },
  {
   "cell_type": "code",
   "execution_count": 7,
   "id": "14def790",
   "metadata": {},
   "outputs": [],
   "source": [
    "## The power of regex"
   ]
  },
  {
   "cell_type": "code",
   "execution_count": 8,
   "id": "5177bc5e",
   "metadata": {},
   "outputs": [],
   "source": [
    "## Two exercises"
   ]
  },
  {
   "cell_type": "code",
   "execution_count": null,
   "id": "f7e14519",
   "metadata": {},
   "outputs": [],
   "source": []
  }
 ],
 "metadata": {
  "kernelspec": {
   "display_name": "Python 3 (ipykernel)",
   "language": "python",
   "name": "python3"
  },
  "language_info": {
   "codemirror_mode": {
    "name": "ipython",
    "version": 3
   },
   "file_extension": ".py",
   "mimetype": "text/x-python",
   "name": "python",
   "nbconvert_exporter": "python",
   "pygments_lexer": "ipython3",
   "version": "3.10.7"
  }
 },
 "nbformat": 4,
 "nbformat_minor": 5
}
