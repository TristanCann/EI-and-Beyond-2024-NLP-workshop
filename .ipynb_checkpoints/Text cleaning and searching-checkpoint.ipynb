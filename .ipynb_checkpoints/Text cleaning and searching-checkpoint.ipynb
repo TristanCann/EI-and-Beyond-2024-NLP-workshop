{
 "cells": [
  {
   "cell_type": "code",
   "execution_count": null,
   "id": "5f947b17",
   "metadata": {},
   "outputs": [],
   "source": [
    "import string\n",
    "import re\n",
    "import pandas as pd"
   ]
  },
  {
   "cell_type": "markdown",
   "id": "f8e23d94",
   "metadata": {},
   "source": [
    "# Text preprocessing\n",
    "\n",
    "Some text about why preprocessing is important."
   ]
  },
  {
   "cell_type": "code",
   "execution_count": null,
   "id": "a03fa5e6",
   "metadata": {},
   "outputs": [],
   "source": [
    "df_news = pd.read_json('data/')"
   ]
  },
  {
   "cell_type": "code",
   "execution_count": 1,
   "id": "15610bef",
   "metadata": {},
   "outputs": [],
   "source": [
    "## Manage upper/lower case"
   ]
  },
  {
   "cell_type": "code",
   "execution_count": 2,
   "id": "e0f19e76",
   "metadata": {},
   "outputs": [],
   "source": [
    "## Manage punctuation"
   ]
  },
  {
   "cell_type": "code",
   "execution_count": 5,
   "id": "d5245890",
   "metadata": {},
   "outputs": [],
   "source": [
    "## A note on encoding"
   ]
  },
  {
   "cell_type": "code",
   "execution_count": 6,
   "id": "22f0eeff",
   "metadata": {},
   "outputs": [],
   "source": [
    "## Two exercises"
   ]
  },
  {
   "cell_type": "markdown",
   "id": "2e6588d7",
   "metadata": {},
   "source": [
    "# Text searching\n",
    "\n",
    "A note on searching strategies."
   ]
  },
  {
   "cell_type": "code",
   "execution_count": 4,
   "id": "241aeab5",
   "metadata": {},
   "outputs": [],
   "source": [
    "## Text in text method"
   ]
  },
  {
   "cell_type": "code",
   "execution_count": 7,
   "id": "a6965c15",
   "metadata": {},
   "outputs": [],
   "source": [
    "## The power of regex"
   ]
  },
  {
   "cell_type": "code",
   "execution_count": 8,
   "id": "c03e9c4b",
   "metadata": {},
   "outputs": [],
   "source": [
    "## Two exercises"
   ]
  },
  {
   "cell_type": "code",
   "execution_count": null,
   "id": "212fb207",
   "metadata": {},
   "outputs": [],
   "source": []
  }
 ],
 "metadata": {
  "kernelspec": {
   "display_name": "Python 3 (ipykernel)",
   "language": "python",
   "name": "python3"
  },
  "language_info": {
   "codemirror_mode": {
    "name": "ipython",
    "version": 3
   },
   "file_extension": ".py",
   "mimetype": "text/x-python",
   "name": "python",
   "nbconvert_exporter": "python",
   "pygments_lexer": "ipython3",
   "version": "3.10.7"
  }
 },
 "nbformat": 4,
 "nbformat_minor": 5
}
