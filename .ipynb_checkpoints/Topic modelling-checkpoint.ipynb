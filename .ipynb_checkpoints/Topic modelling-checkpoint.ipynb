{
 "cells": [
  {
   "cell_type": "code",
   "execution_count": 6,
   "id": "b64554b2",
   "metadata": {},
   "outputs": [],
   "source": [
    "import bertopic\n",
    "import pandas as pd"
   ]
  },
  {
   "cell_type": "markdown",
   "id": "7530bfb1",
   "metadata": {},
   "source": [
    "# Topic modelling\n",
    "\n",
    "Topic modelling is the process of grouping large volumes of text into *topics*, that is collections of texts that align in the words that they use."
   ]
  },
  {
   "cell_type": "code",
   "execution_count": 2,
   "id": "18b69478",
   "metadata": {},
   "outputs": [],
   "source": [
    "## LDA example"
   ]
  },
  {
   "cell_type": "code",
   "execution_count": 3,
   "id": "5b468a1f",
   "metadata": {},
   "outputs": [],
   "source": [
    "## BERTopic example\n",
    "topic_model = bertopic.BERTopic(calculate_probabilities=False)\n",
    "topics, probs = topic_model.fit_transform(df_contexts.context)"
   ]
  },
  {
   "cell_type": "code",
   "execution_count": 4,
   "id": "59af0613",
   "metadata": {},
   "outputs": [],
   "source": [
    "## What are the differences?"
   ]
  },
  {
   "cell_type": "code",
   "execution_count": 5,
   "id": "c43bb3c2",
   "metadata": {},
   "outputs": [],
   "source": [
    "## Some exercises"
   ]
  },
  {
   "cell_type": "code",
   "execution_count": null,
   "id": "237c55c1",
   "metadata": {},
   "outputs": [],
   "source": []
  }
 ],
 "metadata": {
  "kernelspec": {
   "display_name": "Python 3 (ipykernel)",
   "language": "python",
   "name": "python3"
  },
  "language_info": {
   "codemirror_mode": {
    "name": "ipython",
    "version": 3
   },
   "file_extension": ".py",
   "mimetype": "text/x-python",
   "name": "python",
   "nbconvert_exporter": "python",
   "pygments_lexer": "ipython3",
   "version": "3.10.7"
  }
 },
 "nbformat": 4,
 "nbformat_minor": 5
}
