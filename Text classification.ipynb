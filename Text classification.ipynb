{
 "cells": [
  {
   "cell_type": "code",
   "execution_count": 1,
   "id": "7d001be0",
   "metadata": {},
   "outputs": [
    {
     "ename": "ModuleNotFoundError",
     "evalue": "No module named 'vader'",
     "output_type": "error",
     "traceback": [
      "\u001b[1;31m---------------------------------------------------------------------------\u001b[0m",
      "\u001b[1;31mModuleNotFoundError\u001b[0m                       Traceback (most recent call last)",
      "Cell \u001b[1;32mIn[1], line 1\u001b[0m\n\u001b[1;32m----> 1\u001b[0m \u001b[38;5;28;01mimport\u001b[39;00m \u001b[38;5;21;01mvader\u001b[39;00m\n\u001b[0;32m      2\u001b[0m \u001b[38;5;28;01mimport\u001b[39;00m \u001b[38;5;21;01mnltk\u001b[39;00m\n",
      "\u001b[1;31mModuleNotFoundError\u001b[0m: No module named 'vader'"
     ]
    }
   ],
   "source": [
    "import vader\n",
    "import nltk\n",
    "import cider\n",
    "import spacy"
   ]
  },
  {
   "cell_type": "markdown",
   "id": "53a2cd7f",
   "metadata": {},
   "source": [
    "# Text classification\n",
    "\n",
    "What is text classification? How do you make a classifier?"
   ]
  },
  {
   "cell_type": "code",
   "execution_count": 2,
   "id": "bc0835a7",
   "metadata": {},
   "outputs": [],
   "source": [
    "## Sentiment analysis example."
   ]
  },
  {
   "cell_type": "code",
   "execution_count": 3,
   "id": "4239053e",
   "metadata": {},
   "outputs": [],
   "source": [
    "## PoS tagging"
   ]
  },
  {
   "cell_type": "code",
   "execution_count": 4,
   "id": "3212910e",
   "metadata": {},
   "outputs": [],
   "source": [
    "## HF examples."
   ]
  },
  {
   "cell_type": "code",
   "execution_count": null,
   "id": "01859df0",
   "metadata": {},
   "outputs": [],
   "source": [
    "## Exercises"
   ]
  }
 ],
 "metadata": {
  "kernelspec": {
   "display_name": "Python 3 (ipykernel)",
   "language": "python",
   "name": "python3"
  },
  "language_info": {
   "codemirror_mode": {
    "name": "ipython",
    "version": 3
   },
   "file_extension": ".py",
   "mimetype": "text/x-python",
   "name": "python",
   "nbconvert_exporter": "python",
   "pygments_lexer": "ipython3",
   "version": "3.10.7"
  }
 },
 "nbformat": 4,
 "nbformat_minor": 5
}
