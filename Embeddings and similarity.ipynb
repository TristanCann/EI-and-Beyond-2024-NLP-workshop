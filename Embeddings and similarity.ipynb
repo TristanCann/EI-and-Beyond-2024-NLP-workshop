{
 "cells": [
  {
   "cell_type": "code",
   "execution_count": 4,
   "id": "b98bd35a",
   "metadata": {},
   "outputs": [],
   "source": [
    "import numpy as np\n",
    "import pandas as pd\n",
    "import sentence_transformers"
   ]
  },
  {
   "cell_type": "markdown",
   "id": "5884f2d9",
   "metadata": {},
   "source": [
    "# Text embedding\n",
    "\n",
    "What is text embedding? What does it achieve?"
   ]
  },
  {
   "cell_type": "code",
   "execution_count": 5,
   "id": "8e005fb0",
   "metadata": {},
   "outputs": [],
   "source": [
    "## Explain word2vec"
   ]
  },
  {
   "cell_type": "code",
   "execution_count": 6,
   "id": "f08d2f22",
   "metadata": {},
   "outputs": [],
   "source": [
    "## Explain tfidf"
   ]
  },
  {
   "cell_type": "code",
   "execution_count": 7,
   "id": "fab3e754",
   "metadata": {},
   "outputs": [],
   "source": [
    "## Explain BERT"
   ]
  },
  {
   "cell_type": "code",
   "execution_count": 8,
   "id": "db8fa956",
   "metadata": {},
   "outputs": [],
   "source": [
    "## Exercises"
   ]
  },
  {
   "cell_type": "code",
   "execution_count": null,
   "id": "5533ea0e",
   "metadata": {},
   "outputs": [],
   "source": []
  }
 ],
 "metadata": {
  "kernelspec": {
   "display_name": "Python 3 (ipykernel)",
   "language": "python",
   "name": "python3"
  },
  "language_info": {
   "codemirror_mode": {
    "name": "ipython",
    "version": 3
   },
   "file_extension": ".py",
   "mimetype": "text/x-python",
   "name": "python",
   "nbconvert_exporter": "python",
   "pygments_lexer": "ipython3",
   "version": "3.10.7"
  }
 },
 "nbformat": 4,
 "nbformat_minor": 5
}
